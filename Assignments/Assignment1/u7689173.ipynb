{
 "cells": [
  {
   "cell_type": "markdown",
   "metadata": {},
   "source": [
    "## COMP3670 Programming Assignment 1 - Linear Algebra\n",
    "---\n",
    "\n",
    "**Enter Your Student ID:** u7689173\n",
    "\n",
    "**Your Name:** Aryan Odugoudar\n",
    "    \n",
    "**Deadline:**\n",
    "\n",
    "**Submit:** Write your answers in this file, and submit a single Jupyter Notebook file (.ipynb) on Wattle. Rename this file with your student number as 'uXXXXXXX.ipynb'.\n",
    "\n",
    "**Enter Discussion Partner IDs Below:**\n",
    "You could add more IDs with the same markdown format above.\n",
    "\n",
    "\n",
    "\n",
    "---\n",
    "**Marking distribution for the assignment**\n",
    "\n",
    "- Task1 = 10%\n",
    "- Task2 = 50%\n",
    "- Task3 = 40%\n",
    "\n",
    "**You will get full marks if your program passes all the tests; you will get partial marks if it passes some cases. There is no process marks (we do not look into your codes).**"
   ]
  },
  {
   "cell_type": "markdown",
   "metadata": {},
   "source": [
    "## Task 0: Introduction\n",
    "---\n",
    "\n",
    "**NOTE:** *This part of the first assignment is by necessity somewhat tedious as its primary purpose is to introduce syntax, how to access and understand the Numpy documentation and some very basic concepts. If you are already familiar with Numpy, you can just read the **TASK** headings and complete the questions without worrying about all the additional information. This is designed for people who have never seen Numpy before, so it's a very easy 1st year style introduction to just introduce syntax.*\n",
    "\n",
    "*As this is a third year subject, it is assumed you already know to to program well (but may be unfamiliar with Python and Numpy).*\n",
    "\n",
    "---\n",
    "\n",
    "Arguably the most fundamental tool needed to engage with machine learning in Python is Numpy *(np)*. To include Numpy in any project, simply type the following line at the top of your python file:"
   ]
  },
  {
   "cell_type": "code",
   "execution_count": 1,
   "metadata": {},
   "outputs": [
    {
     "name": "stdout",
     "output_type": "stream",
     "text": [
      "Requirement already satisfied: sympy in /Users/aryanodugoudar/opt/anaconda3/lib/python3.9/site-packages (1.10.1)\n",
      "Requirement already satisfied: mpmath>=0.19 in /Users/aryanodugoudar/opt/anaconda3/lib/python3.9/site-packages (from sympy) (1.2.1)\n",
      "Requirement already satisfied: rref in /Users/aryanodugoudar/opt/anaconda3/lib/python3.9/site-packages (0.3.1)\n"
     ]
    }
   ],
   "source": [
    "# numpy\n",
    "import numpy as np\n",
    "\n",
    "!pip install sympy\n",
    "import sympy as sp\n",
    "\n",
    "# matplotlib\n",
    "import matplotlib.pyplot as plt\n",
    "%matplotlib inline\n",
    "!pip install rref"
   ]
  },
  {
   "cell_type": "markdown",
   "metadata": {},
   "source": [
    "A Jupyter Notebook is divided into cells, each of which works like a Python module or Latex file. When a cell is run, any cells that follow it will have access to its results. Running the above cell will give all following cells access to the Numpy library.\n",
    "\n",
    "-----------\n",
    "\n",
    "   **TASK 0.1:** To run the above cell, select it by clicking on it, hold **shift** and press **return**. If you have succeeded, then the cell will print \"Done\" just above.\n",
    "\n",
    "\n",
    "-----------\n",
    "\n",
    "Numpy is a library of common mathematical data structures and algorithms used in machine learning. For example:\n",
    "\n",
    "- It allows you to declare vectors and matrices, with all the associated mathematical operations like matrix vector products, matrix addition / subtraction.\n",
    "- It provides convenient, efficient implementations of algorithms to solve matrix equations, find the inverse of a matrix or perform Eigen decomposition. The implementation of these algorithms is compiled from C code, making Numpy much faster than programming these algorithms yourself in Python.\n",
    "\n",
    "You'll need to know Numpy inside and out. We'll start by getting you familiar with the easy to access online documentation and performing a few basic operations.\n",
    "\n",
    "Below I have declared the matrices: \n",
    "\n",
    "$$A = \n",
    "\\begin{bmatrix}\n",
    "2&3\\\\\n",
    "0&1\\\\\n",
    "\\end{bmatrix}\n",
    "\\\\\n",
    "x = \n",
    "\\begin{bmatrix}\n",
    "1\\\\\n",
    "3\\\\\n",
    "\\end{bmatrix}\n",
    "$$. \n",
    "\n",
    "---\n",
    "**TASK 0.2:** Run the cell below and observe what it prints.\n",
    "\n",
    "\n",
    "---\n",
    "(If it throws an error, you have the wrong version of python installed. This entire course will use Python 3, not Python 2)\n",
    "\n"
   ]
  },
  {
   "cell_type": "code",
   "execution_count": 2,
   "metadata": {},
   "outputs": [
    {
     "name": "stdout",
     "output_type": "stream",
     "text": [
      "\n",
      "Matrix Multiplication\n",
      "[[11]\n",
      " [ 3]]\n"
     ]
    }
   ],
   "source": [
    "A = np.array([[2, 3], [0, 1]])\n",
    "x = np.array([[1], [3]])\n",
    "\n",
    "#Matrix Multiplication Example\n",
    "b = A @ x\n",
    "print('\\nMatrix Multiplication')\n",
    "print(b)"
   ]
  },
  {
   "cell_type": "markdown",
   "metadata": {},
   "source": [
    "The above code illustrates how to perform matrix multiplication. Memorise it. Below are some other basic operations you'll likely need over the coming semester:"
   ]
  },
  {
   "cell_type": "code",
   "execution_count": 3,
   "metadata": {},
   "outputs": [
    {
     "name": "stdout",
     "output_type": "stream",
     "text": [
      "\n",
      "Matrix Addition\n",
      "[[3 4]\n",
      " [3 4]]\n",
      "\n",
      "Elementwise Matrix Multiplication\n",
      "[[2 3]\n",
      " [0 3]]\n",
      "\n",
      "Single Element Extraction\n",
      "2\n",
      "\n",
      "Column Extraction\n",
      "[2 0]\n",
      "\n",
      "Row Extraction\n",
      "[2 3]\n",
      "\n",
      "Transpose\n",
      "[[2 0]\n",
      " [3 1]]\n"
     ]
    }
   ],
   "source": [
    "#Matrix Addition Example\n",
    "b = A + x\n",
    "print('\\nMatrix Addition')\n",
    "print(b)\n",
    "\n",
    "#Elementwise Multiplication Example\n",
    "b = A * x\n",
    "print('\\nElementwise Matrix Multiplication')\n",
    "print(b)\n",
    "\n",
    "#Extract a single element of a matrix:\n",
    "print('\\nSingle Element Extraction')\n",
    "b = A[0, 0]\n",
    "print(b)\n",
    "\n",
    "#Extract an entire column of a matrix:\n",
    "print('\\nColumn Extraction')\n",
    "b = A[:, 0]\n",
    "print(b)\n",
    "\n",
    "#Extract an entire row of a matrix:\n",
    "print('\\nRow Extraction')\n",
    "b = A[0, :]\n",
    "print(b)\n",
    "\n",
    "#Transpose of a matrix:\n",
    "print('\\nTranspose')\n",
    "A_Transpose = A.T\n",
    "print(A_Transpose)"
   ]
  },
  {
   "cell_type": "markdown",
   "metadata": {},
   "source": [
    "## Task1: Solving a system of linear equations\n",
    "---\n",
    "\n",
    "A vital part of linear algebra is to know how to solve a system of linear equations. For e.g. \n",
    "\n",
    "$$a_{11}x_1+a_{12}x_2 \\dots a_{1d}x_d=b_1$$\n",
    "$$a_{21}x_1+a_{22}x_2 \\dots a_{2d}x_d=b_2$$\n",
    "$$\\vdots$$\n",
    "$$a_{n1}x_1+a_{n2}x_2 \\dots a_{nd}x_d=b_n$$\n",
    "\n",
    "The above system of linear equations can also be written down in a compact matrix form as follows:\n",
    "\n",
    "$$AX = B$$\n",
    "\n",
    "where,\n",
    "$$A = \\begin{bmatrix}\n",
    "a_{11} & \\dots & a_{1d}\\\\\n",
    "\\vdots & \\ddots & \\vdots \\\\\n",
    "a_{n1} & \\dots & a_{nd}\n",
    "\\end{bmatrix}, \\quad\n",
    "B = \\begin{bmatrix}\n",
    "b_1 \\\\ \\vdots \\\\ b_n\n",
    "\\end{bmatrix}, \\quad\n",
    "X = \\begin{bmatrix}\n",
    "x_1 \\\\ \\vdots \\\\ x_d\n",
    "\\end{bmatrix}.\n",
    "$$"
   ]
  },
  {
   "cell_type": "markdown",
   "metadata": {},
   "source": [
    "---\n",
    "**Task 1.1**: Use numpy's solve function to compute X\n",
    "\n",
    "---\n",
    "**HINT**: https://docs.scipy.org/doc/numpy/reference/generated/numpy.linalg.solve.html"
   ]
  },
  {
   "cell_type": "code",
   "execution_count": 4,
   "metadata": {},
   "outputs": [
    {
     "name": "stdout",
     "output_type": "stream",
     "text": [
      "[[0.03185596]\n",
      " [0.10526316]\n",
      " [0.05193906]]\n"
     ]
    }
   ],
   "source": [
    "# define A,B\n",
    "A = np.array([[10, 14, 4], [15, 2, 6], [7, 8, 18]])\n",
    "B = np.array([[2], [1], [2]])\n",
    "\n",
    "def solve_with_numpy(A,B):\n",
    "    z=np.linalg.solve(A,B)\n",
    "    return z\n",
    "\n",
    "# show solution\n",
    "X = solve_with_numpy(A,B)\n",
    "print (X)"
   ]
  },
  {
   "cell_type": "markdown",
   "metadata": {},
   "source": [
    "A more hands on way for solving for X, involves computing first computing the inverse of the matrix $A$\n",
    "\n",
    "---\n",
    "**Task 1.2**: Use numpy's inbuilt method for computing the inverse of the matrix $A$\n",
    "\n",
    "---\n",
    "\n",
    "**HINT**: https://docs.scipy.org/doc/numpy/reference/generated/numpy.linalg.inv.html"
   ]
  },
  {
   "cell_type": "code",
   "execution_count": 5,
   "metadata": {},
   "outputs": [
    {
     "name": "stdout",
     "output_type": "stream",
     "text": [
      "[[ 0.30769231 -0.07692308]\n",
      " [-1.15384615  0.53846154]]\n"
     ]
    }
   ],
   "source": [
    "A = np.array([[7, 1], [15, 4]])\n",
    "from numpy.linalg import inv\n",
    "\n",
    "def find_inverse(A):\n",
    "    z= inv(A)\n",
    "    return z\n",
    "    \n",
    "A_inv = find_inverse(A)\n",
    "print(A_inv)"
   ]
  },
  {
   "cell_type": "markdown",
   "metadata": {},
   "source": [
    "---\n",
    "**Task 1.3**: Use the inverse of matrix $A$, to solve for $X$. **Note that you are only allowed to use the functions in 1.1 and 1.2. No other library functions are allowed**.\n",
    "\n",
    "---"
   ]
  },
  {
   "cell_type": "code",
   "execution_count": 6,
   "metadata": {},
   "outputs": [
    {
     "name": "stdout",
     "output_type": "stream",
     "text": [
      "[[ 3.28571429]\n",
      " [-0.14285714]]\n"
     ]
    }
   ],
   "source": [
    "A = np.array([[5, 3], [2, 11]])\n",
    "B = np.array([[16], [5]])\n",
    "from numpy.linalg import inv\n",
    "\n",
    "def solve_with_prev_tasks(A, B):\n",
    "    Ainv= inv(A)\n",
    "    z= Ainv @ B\n",
    "    return z\n",
    "\n",
    "X = solve_with_prev_tasks(A, B)\n",
    "print(X)"
   ]
  },
  {
   "cell_type": "markdown",
   "metadata": {},
   "source": [
    "But what if $A$ is not a square matrix?\n",
    "\n",
    "---\n",
    "**Task 1.4**: Compute the Moore-Penrose pseudo inverse for matrix $A$ and **use it to solve for $x$**. **Note that, you must not directly use `np.linalg.pinv` for computing the pseudo-inverse**.\n",
    "\n",
    "---"
   ]
  },
  {
   "cell_type": "code",
   "execution_count": 50,
   "metadata": {},
   "outputs": [
    {
     "name": "stdout",
     "output_type": "stream",
     "text": [
      "[[ 0.05648765 -0.00480567  0.02654076 -0.0032375 ]\n",
      " [-0.03300733  0.02444988 -0.01222494  0.04278729]]\n",
      "[[0.97187421]\n",
      " [0.09046455]]\n"
     ]
    }
   ],
   "source": [
    "A = np.array([[15, 1], [5, 10], [8, 2], [11, 19]])\n",
    "B = np.array([[18], [15], [2], [8]])\n",
    "\n",
    "def pseudo_inverse(A):\n",
    "    U, D, V = np.linalg.svd(A)\n",
    "    _D = np.zeros((A.shape[0], A.shape[1])).T\n",
    "    _D[:D.shape[0], :D.shape[0]] = np.linalg.inv(np.diag(D))  \n",
    "    A_Pseudo_Inverse = V.T.dot(_D).dot(U.T) \n",
    "    return A_Pseudo_Inverse \n",
    "    \n",
    "\n",
    "def solve_with_pseudo_inverse(A, B):\n",
    "    A_pseudo = pseudo_inverse(A)\n",
    "    z = A_pseudo.dot(B) \n",
    "    return z\n",
    "\n",
    "X = solve_with_pseudo_inverse(A, B)\n",
    "    \n",
    "print(pseudo_inverse(A))\n",
    "print(X)"
   ]
  },
  {
   "cell_type": "markdown",
   "metadata": {},
   "source": [
    "## Task 2: Solving a system of linear equations with Gaussian elimination"
   ]
  },
  {
   "cell_type": "markdown",
   "metadata": {},
   "source": [
    "In the last task, we used numpy's inbulit functions to solve a system of linear equations. Lets do it without using these functions!\n",
    "\n",
    "---\n",
    "**Task 2.1**:  Complete the following gaussian elimnation function to compute the **reduced row-echelon form** of matrix $A$. You must implement the gaussian elimination algorithm yourself, not merely call someone else's library function. You **MUST NOT** copy codes from any source. Your function needs to work under **different shapes** of matrix. Negative zero is a result of the floating-point number standard. If you have some -0s instead of 0s, that should be fine.\n",
    "\n",
    "---"
   ]
  },
  {
   "cell_type": "code",
   "execution_count": 8,
   "metadata": {},
   "outputs": [],
   "source": [
    "def gaussian_elim(A):\n",
    "    mat = A.copy()\n",
    "    m, n = mat.shape\n",
    "    R = np.array(mat, dtype=np.float64)\n",
    "\n",
    "    # Check for duplicate rows.\n",
    "    for i in range(m - 1):\n",
    "        for j in range(i + 1, m):\n",
    "            if np.allclose(R[i, :], R[j, :]):\n",
    "                R[j, :] = R[j, :] - R[i, :]\n",
    "\n",
    "    for r in range(min(m, n)):\n",
    "\n",
    "        i = r\n",
    "        while i < m and np.allclose(R[i, r], 0.0, atol=1e-15, rtol=1e-15):\n",
    "            i += 1\n",
    "        if i == m:\n",
    "            R[np.abs(R) < 1e-10] = 0\n",
    "            return R\n",
    "\n",
    "        if np.allclose(R[i, r], 0.0):\n",
    "            R[i, r] = 1e-10\n",
    "\n",
    "        if i != r:\n",
    "            R[[i, r], :] = R[[r, i], :]\n",
    "\n",
    "        v = R[r, r]\n",
    "        R[r, :] = R[r, :] / v\n",
    "\n",
    "        for j in range(m):\n",
    "            if j != r:\n",
    "                lv = R[j, r]\n",
    "                R[j, :] -= lv * R[r, :]\n",
    "    R[np.abs(R) < 1e-10] = 0\n",
    "\n",
    "    return R\n"
   ]
  },
  {
   "cell_type": "code",
   "execution_count": 9,
   "metadata": {},
   "outputs": [
    {
     "name": "stdout",
     "output_type": "stream",
     "text": [
      "[[1. 0. 0. 0. 0. 0. 0. 0. 0. 0.]\n",
      " [0. 1. 0. 0. 0. 0. 0. 0. 0. 0.]\n",
      " [0. 0. 1. 0. 0. 0. 0. 0. 0. 0.]\n",
      " [0. 0. 0. 1. 0. 0. 0. 0. 0. 0.]\n",
      " [0. 0. 0. 0. 1. 0. 0. 0. 0. 0.]\n",
      " [0. 0. 0. 0. 0. 1. 0. 0. 0. 0.]\n",
      " [0. 0. 0. 0. 0. 0. 1. 0. 0. 0.]\n",
      " [0. 0. 0. 0. 0. 0. 0. 1. 0. 0.]\n",
      " [0. 0. 0. 0. 0. 0. 0. 0. 1. 0.]\n",
      " [0. 0. 0. 0. 0. 0. 0. 0. 0. 1.]]\n"
     ]
    }
   ],
   "source": [
    "A = np.array([[18, 18, 14, 15, 14, 19,  8,  7,  2, 11],\n",
    "               [ 3,  7,  8,  8,  2,  2,  8, 17,  6,  8],\n",
    "               [ 2,  8,  6,  4, 11, 10, 15, 11, 12,  3],\n",
    "               [ 9,  4, 17,  6,  6, 12, 13,  0, 12,  2],\n",
    "               [ 0,  3, 18,  0, 13,  6,  8, 13, 16, 15],\n",
    "               [15, 16, 13,  9,  4, 17, 11,  0,  5, 18],\n",
    "               [10,  4,  6, 12,  6, 18, 17,  7,  5,  6],\n",
    "               [ 3, 12,  2,  4, 16,  1, 17,  8, 10,  2],\n",
    "               [ 7,  8, 11,  4, 12, 14, 18, 14,  9, 16],\n",
    "               [18, 13,  3, 19, 16,  9,  6,  8,  2, 15]])\n",
    "\n",
    "print(gaussian_elim(A))\n",
    "#print(A)\n",
    "\n",
    "# The result should be an identity matrix"
   ]
  },
  {
   "cell_type": "code",
   "execution_count": 10,
   "metadata": {},
   "outputs": [
    {
     "name": "stdout",
     "output_type": "stream",
     "text": [
      "[[  1.           0.           0.           0.          -2.77442593\n",
      "   20.86492571  -0.07248987   7.64520486]\n",
      " [  0.           1.           0.           0.           3.44146781\n",
      "  -21.02183701   1.11661414  -7.36402521]\n",
      " [  0.           0.           1.           0.           0.48694282\n",
      "   -2.83948672  -0.13552454  -0.68505178]\n",
      " [  0.           0.           0.           1.          -1.26947321\n",
      "   13.49369653  -0.09004953   4.45677623]]\n"
     ]
    }
   ],
   "source": [
    "B = np.array([[ 5,  3, 14,  1,  2, 15,  1, 11],\n",
    "               [ 3, 13,  5, 18, 16, 18, 12,  4],\n",
    "               [ 1,  9, 12, 15, 15,  0,  7,  0],\n",
    "               [18, 17,  5,  0, 11,  4, 17,  9]])\n",
    "\n",
    "print(gaussian_elim(B))\n",
    "\n",
    "#print(B,\"\\n\")\n",
    "# The result should look like\n",
    "# [[  1.           0.           0.           0.          -2.77442593 20.86492571  -0.07248987   7.64520486]\n",
    "#  [  0.           1.           0.           0.           3.44146781 -21.02183701   1.11661414  -7.36402521]\n",
    "#  [  0.           0.           1.           0.           0.48694282 -2.83948672  -0.13552454  -0.68505178]\n",
    "#  [  0.           0.           0.           1.          -1.26947321 13.49369653  -0.09004953   4.45677623]]"
   ]
  },
  {
   "cell_type": "code",
   "execution_count": 11,
   "metadata": {},
   "outputs": [
    {
     "name": "stdout",
     "output_type": "stream",
     "text": [
      "[[1. 0. 0.]\n",
      " [0. 1. 0.]\n",
      " [0. 0. 1.]\n",
      " [0. 0. 0.]\n",
      " [0. 0. 0.]\n",
      " [0. 0. 0.]\n",
      " [0. 0. 0.]]\n"
     ]
    }
   ],
   "source": [
    "C = np.array([[ 3, 12, 17],\n",
    "               [14, 19,  8],\n",
    "               [ 1, 12,  7],\n",
    "               [10, 17, 11],\n",
    "               [ 6,  0, 12],\n",
    "               [16,  3, 15],\n",
    "               [16, 19, 18]])\n",
    "\n",
    "print(gaussian_elim(C))\n",
    "\n",
    "\n",
    "# The result should look like\n",
    "# [[1. 0. 0.]\n",
    "#  [0. 1. 0.]\n",
    "#  [0. 0. 1.]\n",
    "#  [0. 0. 0.]\n",
    "#  [0. 0. 0.]\n",
    "#  [0. 0. 0.]\n",
    "#  [0. 0. 0.]]"
   ]
  },
  {
   "cell_type": "markdown",
   "metadata": {},
   "source": [
    "Make sure you pass the following test. Note that, passing the test set does not guarantee you with full mark. We will use different cases when testing your implementation."
   ]
  },
  {
   "cell_type": "code",
   "execution_count": 51,
   "metadata": {},
   "outputs": [
    {
     "data": {
      "text/plain": [
       "True"
      ]
     },
     "execution_count": 51,
     "metadata": {},
     "output_type": "execute_result"
    }
   ],
   "source": [
    "# test your gaussian_elim function\n",
    "def test_gaussian_elim():\n",
    "    for i in range(100):\n",
    "        m, n = np.random.randint(low=5, high=10, size=2)\n",
    "        a = np.random.randn(m, n)\n",
    "        sol1 = gaussian_elim(a)\n",
    "        sol2 = np.array(sp.Matrix(a).rref()[0])\n",
    "        if np.sum((sol1 - sol2) ** 2) > 1e-6:\n",
    "            print(a, \"\\n\")\n",
    "            print(gaussian_elim(a), \"\\n\")\n",
    "            print(np.array(sp.Matrix(a).rref()[0]), \"\\n\")\n",
    "            return False\n",
    "    test_cases = [np.array([[2, 0, 1, 1],\n",
    "                            [2, 0, 1, 1],\n",
    "                            [0, 0, 0, 0],\n",
    "                            [1, 1, 1, 0]], dtype=np.float64),\n",
    "                  np.array([[1, 2, 3],\n",
    "                            [4, 5, 6],\n",
    "                            [7, 8, 9]], dtype=np.float64),\n",
    "                  ]\n",
    "    for test in test_cases:\n",
    "        sol1 = gaussian_elim(test)\n",
    "        sol2 = np.array(sp.Matrix(test).rref()[0])\n",
    "        if np.sum((sol1 - sol2) ** 2) > 1e-6:\n",
    "            print(test, \"\\n\")\n",
    "            print(gaussian_elim(test), \"\\n\")\n",
    "            print(np.array(sp.Matrix(test).rref()[0]), \"\\n\")\n",
    "            return False\n",
    "    return True\n",
    "test_gaussian_elim()"
   ]
  },
  {
   "cell_type": "markdown",
   "metadata": {},
   "source": [
    "---\n",
    "**Task 2.2**: A system of linear equations is called homogeneous if the right hand side is the zero vector. Sometimes there will be only trivial solution, namely the zero vector. An example of this matrix is:\n",
    "$$2x_1+4x_2 =0$$\n",
    "$$2x_1+5x_2 =0$$\n",
    "Sometimes there will be non-trivial solutions, e.g.,\n",
    "$$2x_1+4x_2 =0$$\n",
    "$$1x_1+2x_2 =0$$\n",
    "The solution can be $x_1 =-2$, $x_2 =1$.\n",
    " \n",
    "$A=\\big(\\begin{smallmatrix}\n",
    "  2 & 4\\\\\n",
    "  1 & 2\n",
    "\\end{smallmatrix}\\big)$ is called coefficient matrix.\n",
    "Your task is solving a homogeneous system of linear equations based on its reduced row-echelon form, i.e., the output of your *gaussian_elim* function in Task 2.1. You **MUST NOT** revoke any numpy inbuilt functions you used in Task 1. Your function needs to work under **different shapes** of $A$. \n",
    "\n",
    "The *solve_homogeneous* function should be according to the following specifications:\n",
    "* Take as input the coefficient matrix $A$. \n",
    "* Return:\n",
    "    - 0 if it only has trivial solution. Type: int.\n",
    "    - otherwise, return any two different non-trivial solutions. Type: tuple((np.ndarray, Type: np.ndarray)).  Note that the dimensions of the np.ndarray should be 1, i.e., using one pair of square brackets. See demo outputs below."
   ]
  },
  {
   "cell_type": "code",
   "execution_count": 13,
   "metadata": {},
   "outputs": [],
   "source": [
    "def solve_homogeneous(A):\n",
    "    # Z = np.array(sp.Matrix(A).rref()[0], dtype=np.float64)\n",
    "    Z= gaussian_elim(A.copy())\n",
    "    \n",
    "    m, n = Z.shape\n",
    "    nonTrivialSoln = [1 for i in range (n)]\n",
    "    nonTrivialSoln2= [2 for i in range (n)]\n",
    "    \n",
    "    for row in Z:\n",
    "        is_trivial = True\n",
    "        if m<n:\n",
    "            break\n",
    "        for element in row[:-1]:\n",
    "            if element != 0:\n",
    "                is_trivial = False\n",
    "                break\n",
    "        \n",
    "        if is_trivial and row[-1] != 0:\n",
    "            return 0  \n",
    "    \n",
    "    \n",
    "    for i in range(m):\n",
    "        row = Z[i]\n",
    "        if (not any(row)) : continue\n",
    "        ans = 0\n",
    "        ans2=0\n",
    "        var_index = -1\n",
    "        for j in range(n):\n",
    "            element = row[j]\n",
    "            if (element == 1 and  var_index == -1) :\n",
    "                var_index = j\n",
    "            elif (var_index != -1) : \n",
    "                ans+=element*(-1)\n",
    "                ans2+=element*(-2)\n",
    "                \n",
    "        nonTrivialSoln[var_index]=ans\n",
    "        nonTrivialSoln2[var_index]=ans2\n",
    "\n",
    "    \n",
    "    return (np.array(nonTrivialSoln), np.array(nonTrivialSoln2))"
   ]
  },
  {
   "cell_type": "code",
   "execution_count": 14,
   "metadata": {},
   "outputs": [
    {
     "name": "stdout",
     "output_type": "stream",
     "text": [
      "0\n"
     ]
    }
   ],
   "source": [
    "A = np.array([[ 6,  9,  1,  7],\n",
    "               [17,  1,  3, 17],\n",
    "               [ 8,  4,  9, 13],\n",
    "               [18,  4, 18, 18]])\n",
    "print(solve_homogeneous(A))\n",
    "# The result should look like\n",
    "# 0"
   ]
  },
  {
   "cell_type": "code",
   "execution_count": 15,
   "metadata": {},
   "outputs": [
    {
     "name": "stdout",
     "output_type": "stream",
     "text": [
      "0\n"
     ]
    }
   ],
   "source": [
    "B = np.array([[ 6,  8,  6, 15, 12],\n",
    "           [17,  8,  8, 12,  2],\n",
    "           [18, 15, 15,  7,  2],\n",
    "           [ 7,  6, 10,  3, 18],\n",
    "           [14,  4,  4,  2, 16]])\n",
    "print(solve_homogeneous(B))\n",
    "# The result should look like\n",
    "# 0"
   ]
  },
  {
   "cell_type": "code",
   "execution_count": 16,
   "metadata": {},
   "outputs": [
    {
     "name": "stdout",
     "output_type": "stream",
     "text": [
      "(array([ 0.72, -1.32,  1.  ]), array([ 1.44, -2.64,  2.  ]))\n"
     ]
    }
   ],
   "source": [
    "C = np.array([[ 8, 18, 18],\n",
    "               [14, 19, 15],\n",
    "               [4,  9,  9]])\n",
    "\n",
    "print(solve_homogeneous(C))\n",
    "# The result should look like\n",
    "# (array([ 0.72, -1.32,  1.  ]), array([ 1.44, -2.64,  2.  ]))\n",
    "# Note they are not unique"
   ]
  },
  {
   "cell_type": "code",
   "execution_count": 17,
   "metadata": {},
   "outputs": [
    {
     "name": "stdout",
     "output_type": "stream",
     "text": [
      "(array([-21.11538462,  68.53846154,  -1.23076923,   1.        ]), array([-42.23076923, 137.07692308,  -2.46153846,   2.        ]))\n"
     ]
    }
   ],
   "source": [
    "D = np.array([[10,  3,  2,  8],\n",
    "           [16,  5,  8,  5],\n",
    "           [ 0,  0, 13, 16]])\n",
    "\n",
    "print(solve_homogeneous(D))\n",
    "#The result should look like\n",
    "# ((array([-21.11538462,  68.53846154,  -1.23076923,   1.        ]), \n",
    "# array([-42.23076923, 137.07692308,  -2.46153846,   2.        ]))\n",
    "# Note they are not unique"
   ]
  },
  {
   "cell_type": "code",
   "execution_count": 18,
   "metadata": {},
   "outputs": [
    {
     "name": "stdout",
     "output_type": "stream",
     "text": [
      "0\n"
     ]
    }
   ],
   "source": [
    "E = np.array([[ 2, 12,  2],\n",
    "           [12,  8,  7],\n",
    "           [14,  5, 17],\n",
    "           [ 8, 10,  5]])\n",
    "\n",
    "print(solve_homogeneous(E))\n",
    "# The result should look like\n",
    "# 0"
   ]
  },
  {
   "cell_type": "markdown",
   "metadata": {},
   "source": [
    "Make sure you pass the following test. Note that, passing the test set does not guarantee you with full mark. We will use different cases when testing your implementation."
   ]
  },
  {
   "cell_type": "code",
   "execution_count": 52,
   "metadata": {},
   "outputs": [
    {
     "name": "stdout",
     "output_type": "stream",
     "text": [
      "True\n",
      "True\n"
     ]
    }
   ],
   "source": [
    "def test_homogeneous_trivial():\n",
    "    # test A with m>n and m=n but no dependent rows in it\n",
    "    for i in range(1000):\n",
    "        m = np.random.randint(low=4, high=6)\n",
    "        n = np.random.randint(low=2, high=5)\n",
    "        a = np.random.randn(m, n)\n",
    "        res = solve_homogeneous(a)\n",
    "        if res != 0:\n",
    "            print(a, '\\n')\n",
    "            print(f' solution should be 0 but got {res}')\n",
    "            return False\n",
    "    # test A with m>n and there are dependent rows in it\n",
    "    test_list = [\n",
    "        np.array([[1, 2], [3, 4], [2, 4]]),\n",
    "        np.array([[1, 2, 3], [2, 4, 6], [3, 4, 5], [4, 7, 9]]),\n",
    "    ]\n",
    "    for case in test_list:\n",
    "        res = solve_homogeneous(case)\n",
    "        if res != 0:\n",
    "            print(a, '\\n')\n",
    "            print(f' solution should be 0 but got {res}')\n",
    "            return False\n",
    "    return True\n",
    "\n",
    "def test_homogeneous_nontrivial():\n",
    "    import random\n",
    "    # test A with m=n and m<n\n",
    "    for i in range(1000):\n",
    "        m = np.random.randint(low=2, high=5)\n",
    "        n = np.random.randint(low=4, high=6)\n",
    "        a = np.random.randn(m, n)\n",
    "        a_ = a.copy()\n",
    "        # create matrices whose rows or columns are dependent\n",
    "        dpdt = random.sample(range(0, m), np.random.randint(low=2, high=m + 1))\n",
    "        duplicate = a[dpdt[0]]\n",
    "        for row in dpdt:\n",
    "            a[row] = duplicate\n",
    "        x1 = np.expand_dims(solve_homogeneous(a)[0], axis=1)\n",
    "        x2 = np.expand_dims(solve_homogeneous(a)[1], axis=1)\n",
    "        if abs(np.sum(a @ x1)) > 1e-6 or abs(np.sum(a @ x2)) > 1e-6 or (x1==x2).all():\n",
    "            print(a_, '\\n')\n",
    "            print('the solutions are not correct')\n",
    "            return False\n",
    "    # test A with m>n\n",
    "    test_list = [\n",
    "        np.array([[1, 2], [1, 2], [2, 4]]),\n",
    "        np.array([[1, 2, 3], [3, 6, 9], [1, 2, 3], [4, 7, 9]]),\n",
    "        np.array([[1, 2, 3], [4, 5, 6], [7, 8, 9]])\n",
    "    ]\n",
    "    for case in test_list:\n",
    "        x1 = np.expand_dims(solve_homogeneous(case)[0], axis=1)\n",
    "        x2 = np.expand_dims(solve_homogeneous(case)[1], axis=1)\n",
    "        if abs(np.sum(case @ x1)) > 1e-6 or abs(np.sum(case @ x2)) > 1e-6 or (x1==x2).all():\n",
    "            print(a_, '\\n')\n",
    "            print('the solutions are not correct')\n",
    "            return False\n",
    "    return True\n",
    "\n",
    "print(test_homogeneous_trivial())\n",
    "print(test_homogeneous_nontrivial())"
   ]
  },
  {
   "cell_type": "markdown",
   "metadata": {},
   "source": [
    "---\n",
    "**Task 2.3**: A system of linear equations is called non-homogeneous if the right hand side is not the zero vector. A non-homogeneous system of linear equations has\n",
    "* no solution, or\n",
    "* a unique solution, or\n",
    "* infinite number of solutions\n",
    "\n",
    "Similar to Task 2.2, your task is solving a non-homogeneous system of linear equations. You **MUST NOT** revoke any numpy inbuilt functions you used in Task 1, however, you are allowed to use the functions you defined in Task 2.2. Your function needs to work under **different shapes** of augmented matrix $[A|b]$. \n",
    "\n",
    "The *solve_nonhomogeneous* function should be according to following specifications:\n",
    "* Take as input the augmented matrix $[A|b]$. \n",
    "* Return:\n",
    "    - None if it has no solution at all. Type: None.\n",
    "    - the single solution if it only has one solution. Type: np.ndarray.\n",
    "    - otherwise, return any two different solutions if it has more than one solutions. Type: tuple((np.ndarray, Type: np.ndarray)).\n",
    "*  Note that the dimensions of the np.ndarray should be 1, especially, one pair of square brackets. See demo outputs below.    "
   ]
  },
  {
   "cell_type": "code",
   "execution_count": 54,
   "metadata": {},
   "outputs": [],
   "source": [
    "def solve_nonhomogeneous(A_aug):\n",
    "    threshold = 1e-16\n",
    "    A_aug_rref = gaussian_elim(A_aug)\n",
    "    A, b = A_aug_rref[:, :-1], A_aug_rref[:, -1]  # seperate the augumentation matrix\n",
    "    m, n = A.shape\n",
    "    res = [0 for _ in range(n)]\n",
    "\n",
    "    row, col = 0, 0\n",
    "    # search free variables\n",
    "    while row < m and col < n:\n",
    "        if abs(A[row][col] - 1) <= threshold:\n",
    "            row += 1\n",
    "            col += 1\n",
    "            continue\n",
    "        res[col] = 1  # set free variable to 1\n",
    "        col += 1  # keep search from its left neighbor\n",
    "    # check whether the last line has free variables\n",
    "    # e.g. A = [[1, 0, 0], [0, 1, 2]], X_3 is a free varibale\n",
    "    res[col:n] = [1] * (n - col)\n",
    "    if 1 in res:\n",
    "        free_var = [i for i in range(len(res)) if res[i] == 1]\n",
    "        # print(\"index of free variable(s): {}\\n\".format(free_var))\n",
    "    else:\n",
    "        # if no free variable in RREF, return b if m == n\n",
    "        # for m > n, return none if b[n:] is not a zero vector\n",
    "        # return b[:n] otherwise\n",
    "        # for m < n, there must be at least one free variable\n",
    "        # print(\"no free variable\\n\")\n",
    "        for i in range(min(m, n), m):\n",
    "            if abs(b[i] - 0) > threshold:\n",
    "                return None\n",
    "        return b[:n]\n",
    "\n",
    "    lead_var = [i for i in range(len(res)) if res[i] == 0]\n",
    "    n_lead_var = len(lead_var)\n",
    "    for i in range(n_lead_var, m):\n",
    "        if abs(b[i] - 0) > threshold:\n",
    "            return None\n",
    "\n",
    "    # deep copy, set the value of free varibales to 2 instead of 1\n",
    "    res_2 = [2 * x for x in res]\n",
    "    for t in lead_var:\n",
    "        # suppose A[1, :] = [0, 1, 0, 2], res = [0, 0, 0, 1], b = [0, 2, 0, 0]\n",
    "        # then X_2 + 2 * X_4 = 2, X_2 = -2 * X_4 + 2= -2 * 1 + 2 = 0\n",
    "        res[t] = -1 * sum([A[t, i] * res[i] for i in range(n)]) + b[t]\n",
    "        res_2[t] = -1 * sum([A[t, i] * res_2[i] for i in range(n)]) + b[t]\n",
    "\n",
    "    return (np.array(res), np.array(res_2))"
   ]
  },
  {
   "cell_type": "code",
   "execution_count": 55,
   "metadata": {},
   "outputs": [
    {
     "name": "stdout",
     "output_type": "stream",
     "text": [
      "None\n"
     ]
    }
   ],
   "source": [
    "A = np.array([[ 9,  5, 14,  3],\n",
    "           [ 9,  1, 11,  0],\n",
    "           [ 0,  4,  3,  2]])\n",
    "\n",
    "print(solve_nonhomogeneous(A))\n",
    "# The result should look like\n",
    "# None"
   ]
  },
  {
   "cell_type": "code",
   "execution_count": 56,
   "metadata": {},
   "outputs": [
    {
     "name": "stdout",
     "output_type": "stream",
     "text": [
      "[0.19444444 0.52777778 3.11111111]\n"
     ]
    }
   ],
   "source": [
    "B = np.array([[ 9, 19,  2, 18],\n",
    "           [ 5,  7,  3, 14],\n",
    "           [14,  6,  1,  9]])\n",
    "\n",
    "print(solve_nonhomogeneous(B))\n",
    "# The result should look like\n",
    "# [0.19444444 0.52777778 3.11111111]"
   ]
  },
  {
   "cell_type": "code",
   "execution_count": 57,
   "metadata": {},
   "outputs": [
    {
     "name": "stdout",
     "output_type": "stream",
     "text": [
      "(array([-2.99214286,  0.35642857,  4.61571429,  2.55      ,  1.        ]), array([-6.15785714,  0.29357143,  8.08428571,  4.95      ,  2.        ]))\n"
     ]
    }
   ],
   "source": [
    "C = np.array([[14, 14,  0, 18,  2, 11],\n",
    "           [12, 12,  5,  1, 19, 13],\n",
    "           [ 9,  3,  7,  1,  2, 11],\n",
    "           [18, 10,  6, 12,  8, 16]])\n",
    "print(solve_nonhomogeneous(C))\n",
    "# The result should look like\n",
    "# (array([-2.99214286,  0.35642857,  4.61571429,  2.55      ,  1.        ]), \n",
    "# array([-6.15785714,  0.29357143,  8.08428571,  4.95      ,  2.        ]))\n",
    "# The results are not unique"
   ]
  },
  {
   "cell_type": "markdown",
   "metadata": {},
   "source": [
    "Make sure you pass the following test. Note that, passing the test set does not guarantee you with full mark. We will use different cases when testing your implementation."
   ]
  },
  {
   "cell_type": "code",
   "execution_count": 58,
   "metadata": {},
   "outputs": [
    {
     "name": "stdout",
     "output_type": "stream",
     "text": [
      "True\n",
      "True\n",
      "True\n"
     ]
    }
   ],
   "source": [
    "def test_nonhomogeneous_no_solution():\n",
    "    import random\n",
    "    for i in range(1000):\n",
    "        m = np.random.randint(low=3, high=6)\n",
    "        n = np.random.randint(low=3, high=6)\n",
    "        a = np.random.randn(m, n)\n",
    "        a_ = a.copy()\n",
    "        # create matrices whose rows conflict\n",
    "        cflt = random.sample(range(0, m), np.random.randint(low=2, high=m + 1))\n",
    "        duplicate = a[cflt[0]]\n",
    "        for row in cflt:\n",
    "            a[row] = duplicate\n",
    "            a[row][-1] = np.random.normal(loc=a[row][-1])\n",
    "        if solve_nonhomogeneous(a):\n",
    "            print(a_, '\\n')\n",
    "            print(f'the solution should be None, but got {solve_nonhomogeneous(a)}')\n",
    "            return False\n",
    "    return True\n",
    "\n",
    "def test_nonhomogeneous_single_solution():\n",
    "    # test square A\n",
    "    for i in range(1000):\n",
    "        m = np.random.randint(low=3, high=6)\n",
    "        n = m + 1\n",
    "        a = np.random.randn(m, n)\n",
    "        x = np.expand_dims(solve_nonhomogeneous(a), axis=1)\n",
    "        if abs(np.sum(a[:, :-1] @ x) - np.sum(a[:, -1])) > 1e-6:\n",
    "            print(a, '\\n')\n",
    "            print('the solution is not correct')\n",
    "            return False\n",
    "    test_list = [\n",
    "        np.array([[1, 1, 1], [1, 3, 3], [2, 2, 2]]),\n",
    "        np.array([[1, 2, 3, 2], [2, 4, 6, 4], [3, 6, 9, 6], [4, 7, 9, 10], [1, 2, 4, 7]]),\n",
    "    ]\n",
    "    # test A with m>n\n",
    "    for case in test_list:\n",
    "        x = np.expand_dims(solve_nonhomogeneous(case), axis=1)\n",
    "        if abs(np.sum(case[:, :-1] @ x) - np.sum(case[:, -1])) > 1e-6:\n",
    "            print(a, '\\n')\n",
    "            print('the solution is not correct')\n",
    "            return False\n",
    "    return True\n",
    "\n",
    "def test_nonhomogeneous_infinite_solution():\n",
    "    import random\n",
    "    for i in range(1000):\n",
    "        # test A with m=n and m<n whose rows are dependent\n",
    "        m = np.random.randint(low=2, high=5)\n",
    "        n = m + np.random.randint(low=1, high=4)\n",
    "        a = np.random.randn(m, n)\n",
    "        a_ = a.copy()\n",
    "        # create matrices whose rows or columns are dependent\n",
    "        dpdt = random.sample(range(0, m), np.random.randint(low=2, high=m + 1))\n",
    "        duplicate = a[dpdt[0]]\n",
    "        for row in dpdt:\n",
    "            a[row] = duplicate\n",
    "        x1 = np.expand_dims(solve_nonhomogeneous(a)[0], axis=1)\n",
    "        x2 = np.expand_dims(solve_nonhomogeneous(a)[1], axis=1)\n",
    "        if abs(np.sum(a[:, :-1] @ x1) - np.sum(a[:, -1])) > 1e-6 or abs(\n",
    "                np.sum(a[:, :-1] @ x2) - np.sum(a[:, -1])) > 1e-6 or (x1==x2).all():\n",
    "            print(a_, '\\n')\n",
    "            print('the solutions are not correct')\n",
    "            return False\n",
    "        # test A with m<n whose rows are not dependent\n",
    "        if n > m + 1:\n",
    "            x1 = np.expand_dims(solve_nonhomogeneous(a_)[0], axis=1)\n",
    "            x2 = np.expand_dims(solve_nonhomogeneous(a_)[1], axis=1)\n",
    "            if abs(np.sum(a[:, :-1] @ x1) - np.sum(a[:, -1])) > 1e-6 or abs(\n",
    "                    np.sum(a[:, :-1] @ x2) - np.sum(a[:, -1])) > 1e-6 or (x1==x2).all():\n",
    "                print(a_, '\\n')\n",
    "                print('the solutions are not correct')\n",
    "                return False\n",
    "    # test A with m>n whose rows are dependent\n",
    "    test_list = [\n",
    "        np.array([[1, 2, 3], [2, 4, 6], [3, 6, 9]]),\n",
    "        np.array([[1, 2, 3, 4], [2, 4, 6, 8], [1, 4, 7, 9], [1, 2, 3, 4], [2, 4, 6, 8]]),\n",
    "    ]\n",
    "    for case in test_list:\n",
    "        x1 = np.expand_dims(solve_nonhomogeneous(case)[0], axis=1)\n",
    "        x2 = np.expand_dims(solve_nonhomogeneous(case)[1], axis=1)\n",
    "        if abs(np.sum(case[:, :-1] @ x1) - np.sum(case[:, -1])) > 1e-6 or abs(\n",
    "                np.sum(case[:, :-1] @ x2) - np.sum(case[:, -1])) > 1e-6 or (x1==x2).all():\n",
    "            print(case, '\\n')\n",
    "            print('the solutions are not correct')\n",
    "            return False\n",
    "    return True\n",
    "\n",
    "print(test_nonhomogeneous_no_solution())\n",
    "print(test_nonhomogeneous_single_solution())\n",
    "print(test_nonhomogeneous_infinite_solution())"
   ]
  },
  {
   "cell_type": "markdown",
   "metadata": {},
   "source": [
    "## Task 3: Rank, Basis and Span\n",
    "\n",
    "Given a matrix $X$, would it be possible for you to programmably determine its rank, null space and column space? In this question, you are tasked at **1) finding the rank and the dimension of the null space $X$, 2) finding the basis that spans the column space of $X$, and 3) finding the basis that spans the null space of $X$.**"
   ]
  },
  {
   "cell_type": "markdown",
   "metadata": {},
   "source": [
    "---\n",
    "**Task 3.1**: Implement two functions `rank`, `dim_null`.\n",
    "\n",
    "`rank`: takes arbitrary matrix $X$ as input, output its rank.\n",
    "\n",
    "`dim_null`: takes arbitrary matrix $X$ as input, output the dimension of its null space\n",
    "\n",
    "**Note: If you didn't get Gaussian Elimination in task2, you may use the library function `sp.Matrix(X).rref()` to get the reduced row echelon form of $X$. But, you must not use other library functions that can solve questions directly.**"
   ]
  },
  {
   "cell_type": "code",
   "execution_count": 25,
   "metadata": {},
   "outputs": [],
   "source": [
    "def rank(A):\n",
    "    Arref, p = sp.Matrix(A).rref()\n",
    "    \n",
    "    NonZeroRows = 0\n",
    "    for row in range(Arref.shape[0]):\n",
    "        if any(Arref[row, :]):\n",
    "            NonZeroRows += 1\n",
    "    \n",
    "    return NonZeroRows\n",
    "    \n",
    "def dim_null(A):\n",
    "    A_rref, p = sp.Matrix(A).rref()\n",
    "    \n",
    "    colmn = A.shape[1]\n",
    "    pivots = len(p)\n",
    "    dim_null_space = colmn - pivots\n",
    "    \n",
    "    return dim_null_space"
   ]
  },
  {
   "cell_type": "code",
   "execution_count": 26,
   "metadata": {},
   "outputs": [
    {
     "name": "stdout",
     "output_type": "stream",
     "text": [
      "0\n",
      "3\n"
     ]
    }
   ],
   "source": [
    "A = np.array([[0, 0, 0], \n",
    "              [0, 0, 0], \n",
    "              [0, 0, 0]])\n",
    "\n",
    "print(rank(A))\n",
    "print(dim_null(A))\n",
    "\n",
    "# you should get\n",
    "# 0\n",
    "# 3"
   ]
  },
  {
   "cell_type": "code",
   "execution_count": 27,
   "metadata": {},
   "outputs": [
    {
     "name": "stdout",
     "output_type": "stream",
     "text": [
      "4\n",
      "1\n"
     ]
    }
   ],
   "source": [
    "B = np.array([[16,  8, 12,  8,  5],\n",
    "               [ 0,  7,  9, 14,  2],\n",
    "               [14, 12, 13, 15, 14],\n",
    "               [13, 18, 16, 19, 12]])\n",
    "\n",
    "print(rank(B))\n",
    "print(dim_null(B))\n",
    "\n",
    "# you should get\n",
    "# 4\n",
    "# 1"
   ]
  },
  {
   "cell_type": "code",
   "execution_count": 28,
   "metadata": {},
   "outputs": [
    {
     "name": "stdout",
     "output_type": "stream",
     "text": [
      "3\n",
      "0\n"
     ]
    }
   ],
   "source": [
    "C = np.array([[ 1,  8,  4],\n",
    "               [ 0,  0, 11],\n",
    "               [15,  2, 11],\n",
    "               [12,  0,  3]])\n",
    "\n",
    "print(rank(C))\n",
    "print(dim_null(C))\n",
    "\n",
    "# you should get\n",
    "# 3\n",
    "# 0"
   ]
  },
  {
   "cell_type": "markdown",
   "metadata": {},
   "source": [
    "Make sure you pass the following test. Here we only provide the test for the rank."
   ]
  },
  {
   "cell_type": "code",
   "execution_count": 29,
   "metadata": {},
   "outputs": [
    {
     "data": {
      "text/plain": [
       "True"
      ]
     },
     "execution_count": 29,
     "metadata": {},
     "output_type": "execute_result"
    }
   ],
   "source": [
    "def test_rank():\n",
    "    for _ in range(1000):\n",
    "        rnd_h = np.random.randint(1, 10)\n",
    "        rnd_w = np.random.randint(1, 10)\n",
    "        rnd_mat = np.random.choice(100, [rnd_h, rnd_w], replace=True).astype(np.float64)\n",
    "        if rank(rnd_mat) != np.linalg.matrix_rank(rnd_mat):\n",
    "            return False\n",
    "    return True\n",
    "test_rank()"
   ]
  },
  {
   "cell_type": "markdown",
   "metadata": {},
   "source": [
    "\n",
    "\n",
    "---\n",
    "**Task 3.2**: Implement `basis_col`.\n",
    "\n",
    "`basis_col`: takes arbitrary matrix $X$ as input, output a basis that spans the column space of $X$. The basis should be a numpy array or a list, containing several numpy array vectors. \n",
    "\n",
    "---"
   ]
  },
  {
   "cell_type": "code",
   "execution_count": 59,
   "metadata": {},
   "outputs": [],
   "source": [
    "def basis_col(A):\n",
    "    m, n = A.shape\n",
    "    basis = []\n",
    "\n",
    "    for col in range(min(m,n)):\n",
    "        linearInd = True\n",
    "\n",
    "        for prev_col in basis:\n",
    "            if np.array_equal(A[:, col], prev_col):\n",
    "                linearInd = False\n",
    "                break\n",
    "        \n",
    "        for prev_col in basis[col+1:]:\n",
    "            if np.array_equal(A[:, col], prev_col):\n",
    "                linearInd = False\n",
    "                break\n",
    "        \n",
    "        if linearInd:\n",
    "            basis.append(A[:, col])\n",
    "    \n",
    "    return np.array(basis).T\n"
   ]
  },
  {
   "cell_type": "code",
   "execution_count": 60,
   "metadata": {},
   "outputs": [
    {
     "name": "stdout",
     "output_type": "stream",
     "text": [
      "[[0]\n",
      " [0]\n",
      " [0]]\n"
     ]
    }
   ],
   "source": [
    "A = np.array([[0, 0, 0], \n",
    "              [0, 0, 0], \n",
    "              [0, 0, 0]])\n",
    "\n",
    "print(basis_col(A))\n",
    "\n",
    "# should return \n",
    "# array([[0], [0], [0]])"
   ]
  },
  {
   "cell_type": "code",
   "execution_count": 61,
   "metadata": {},
   "outputs": [
    {
     "name": "stdout",
     "output_type": "stream",
     "text": [
      "[[13 11  6  9]\n",
      " [ 0 12 16 11]\n",
      " [ 5 15  8  3]\n",
      " [16  3  1 14]]\n"
     ]
    }
   ],
   "source": [
    "B = np.array([[13, 11,  6,  9,  6],\n",
    "            [ 0, 12, 16, 11, 14],\n",
    "            [ 5, 15,  8,  3,  0],\n",
    "            [16,  3,  1, 14,  5]])\n",
    "\n",
    "print(basis_col(B))\n",
    "\n",
    "# should return something like\n",
    "# array([[13, 11, 6, 9], [0, 12, 16, 11], [5, 15, 8, 3], [16, 3, 1, 14]])\n",
    "# the solution is not unique"
   ]
  },
  {
   "cell_type": "code",
   "execution_count": 62,
   "metadata": {},
   "outputs": [
    {
     "name": "stdout",
     "output_type": "stream",
     "text": [
      "[[1]\n",
      " [1]\n",
      " [1]]\n"
     ]
    }
   ],
   "source": [
    "C = np.array([[1, 1], \n",
    "              [1, 1], \n",
    "              [1, 1]])\n",
    "\n",
    "print(basis_col(C))\n",
    "# should return something like\n",
    "# array([[1], [1], [1]])\n",
    "# the solution is not unique"
   ]
  },
  {
   "cell_type": "markdown",
   "metadata": {},
   "source": [
    "We will use more test cases when testing your implementation."
   ]
  },
  {
   "cell_type": "markdown",
   "metadata": {},
   "source": [
    "---\n",
    "**Task 3.3**: Implement `basis_null`.\n",
    "\n",
    "`basis_null`: takes arbitrary matrix $X$ as input, output a basis that spans the null space of $X$. The basis should be a numpy array or a list, containing several numpy array vectors.\n",
    "\n",
    "---"
   ]
  },
  {
   "cell_type": "code",
   "execution_count": 63,
   "metadata": {},
   "outputs": [],
   "source": [
    "def basis_null(X):\n",
    "\n",
    "    m, n = X.shape\n",
    "\n",
    "    # Reduce X to row echelon form using Gaussian elimination.\n",
    "    R = gaussian_elim(X)\n",
    "\n",
    "    # Find the pivot rows.\n",
    "    pivot_rows = []\n",
    "    for i in range(m):\n",
    "        if not np.allclose(R[i, :], 0.0):\n",
    "            pivot_rows.append(i)\n",
    "\n",
    "    # If there are no pivot rows, then the null space is all of the space.\n",
    "    if not pivot_rows and not np.allclose(R, np.eye(m)):\n",
    "        return np.eye(m)\n",
    "\n",
    "    # The basis vectors are the rows of R corresponding to the pivot rows.\n",
    "    rank_mat = rank(R)\n",
    "    free_vars = n - rank_mat\n",
    "    if free_vars == 0:\n",
    "        return np.zeros(shape=(1, n)).T\n",
    "    \n",
    "    solution_matrix = np.zeros(shape=(n, free_vars))\n",
    "    for i in range(m) :\n",
    "        for j in range(rank_mat, n) : \n",
    "            solution_matrix[i, j-rank_mat] = R[i, j] * (-1)\n",
    "    \n",
    "    for i in range(rank_mat, n) :\n",
    "        solution_matrix[i][i-rank_mat] = 1\n",
    "    \n",
    "    \n",
    "\n",
    "    return np.array(solution_matrix)\n"
   ]
  },
  {
   "cell_type": "code",
   "execution_count": 64,
   "metadata": {},
   "outputs": [
    {
     "name": "stdout",
     "output_type": "stream",
     "text": [
      "[[1. 0. 0.]\n",
      " [0. 1. 0.]\n",
      " [0. 0. 1.]]\n"
     ]
    }
   ],
   "source": [
    "A = np.array([[0, 0, 0], \n",
    "              [0, 0, 0], \n",
    "              [0, 0, 0]])\n",
    "print(basis_null(A))\n",
    "\n",
    "# should return something like an identity matrix. The solution is not unique."
   ]
  },
  {
   "cell_type": "code",
   "execution_count": 65,
   "metadata": {},
   "outputs": [
    {
     "name": "stdout",
     "output_type": "stream",
     "text": [
      "[[0.]\n",
      " [0.]\n",
      " [0.]]\n"
     ]
    }
   ],
   "source": [
    "B = np.array([[16, 16, 11],\n",
    "            [14, 19, 11],\n",
    "            [11, 12, 19]])\n",
    "\n",
    "print(basis_null(B))\n",
    "\n",
    "# should return\n",
    "# array([[0], [0], [0]])"
   ]
  },
  {
   "cell_type": "code",
   "execution_count": 66,
   "metadata": {},
   "outputs": [
    {
     "name": "stdout",
     "output_type": "stream",
     "text": [
      "[[-1.51875  -0.8125  ]\n",
      " [-3.675    -3.25    ]\n",
      " [ 3.571875  3.28125 ]\n",
      " [ 1.        0.      ]\n",
      " [ 0.        1.      ]]\n"
     ]
    }
   ],
   "source": [
    "C = np.array([[ 0, 18, 16,  9, 6],\n",
    "                [ 3, 14, 14,  6, 2],\n",
    "                [14,  3,  4, 18, 8]])\n",
    "\n",
    "print(basis_null(C))\n",
    "\n",
    "# should return something like\n",
    "# array([[-1.51875 , -0.8125], [-3.675,      -3.25], [ 3.571875, 3.28125], [ 1.      , 0], [ 0.      , 1]])\n",
    "# the solution is not unique"
   ]
  },
  {
   "cell_type": "markdown",
   "metadata": {},
   "source": [
    "We will use more test cases when testing your implementation."
   ]
  }
 ],
 "metadata": {
  "kernelspec": {
   "display_name": "Python 3 (ipykernel)",
   "language": "python",
   "name": "python3"
  },
  "language_info": {
   "codemirror_mode": {
    "name": "ipython",
    "version": 3
   },
   "file_extension": ".py",
   "mimetype": "text/x-python",
   "name": "python",
   "nbconvert_exporter": "python",
   "pygments_lexer": "ipython3",
   "version": "3.9.13"
  }
 },
 "nbformat": 4,
 "nbformat_minor": 2
}

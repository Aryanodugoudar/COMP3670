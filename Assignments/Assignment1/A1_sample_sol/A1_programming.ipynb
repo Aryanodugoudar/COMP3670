{
 "cells": [
  {
   "cell_type": "markdown",
   "metadata": {},
   "source": [
    "## COMP3670 Programming Assignment 1 - Linear Algebra\n",
    "---\n",
    "\n",
    "**Enter Your Student ID:** \n",
    "\n",
    "**Your Name:**\n",
    "    \n",
    "**Deadline:**\n",
    "\n",
    "**Submit:** Write your answers in this file, and submit a single Jupyter Notebook file (.ipynb) on Wattle. Rename this file with your student number as 'uXXXXXXX.ipynb'.\n",
    "\n",
    "**Enter Discussion Partner IDs Below:**\n",
    "You could add more IDs with the same markdown format above.\n",
    "\n",
    "\n",
    "\n",
    "---\n",
    "**Marking distribution for the assignment**\n",
    "\n",
    "- Task1 = 10%\n",
    "- Task2 = 50%\n",
    "- Task3 = 40%\n",
    "\n",
    "**You will get full marks if your program passes all the tests; you will get partial marks if it passes some cases. There is no process marks (we do not look into your codes).**"
   ]
  },
  {
   "cell_type": "markdown",
   "metadata": {},
   "source": [
    "## Task 0: Introduction\n",
    "---\n",
    "\n",
    "**NOTE:** *This part of the first assignment is by necessity somewhat tedious as its primary purpose is to introduce syntax, how to access and understand the Numpy documentation and some very basic concepts. If you are already familiar with Numpy, you can just read the **TASK** headings and complete the questions without worrying about all the additional information. This is designed for people who have never seen Numpy before, so it's a very easy 1st year style introduction to just introduce syntax.*\n",
    "\n",
    "*As this is a third year subject, it is assumed you already know to to program well (but may be unfamiliar with Python and Numpy).*\n",
    "\n",
    "---\n",
    "\n",
    "Arguably the most fundamental tool needed to engage with machine learning in Python is Numpy *(np)*. To include Numpy in any project, simply type the following line at the top of your python file:"
   ]
  },
  {
   "cell_type": "code",
   "execution_count": 1,
   "metadata": {},
   "outputs": [
    {
     "name": "stdout",
     "output_type": "stream",
     "text": [
      "Requirement already satisfied: sympy in /home/jy/.local/lib/python3.8/site-packages (1.12)\n",
      "Requirement already satisfied: mpmath>=0.19 in /home/jy/.local/lib/python3.8/site-packages (from sympy) (1.3.0)\n"
     ]
    }
   ],
   "source": [
    "# numpy\n",
    "import numpy as np\n",
    "\n",
    "!pip install sympy\n",
    "import sympy as sp\n",
    "\n",
    "# matplotlib\n",
    "import matplotlib.pyplot as plt\n",
    "%matplotlib inline"
   ]
  },
  {
   "cell_type": "markdown",
   "metadata": {},
   "source": [
    "A Jupyter Notebook is divided into cells, each of which works like a Python module or Latex file. When a cell is run, any cells that follow it will have access to its results. Running the above cell will give all following cells access to the Numpy library.\n",
    "\n",
    "-----------\n",
    "\n",
    "   **TASK 0.1:** To run the above cell, select it by clicking on it, hold **shift** and press **return**. If you have succeeded, then the cell will print \"Done\" just above.\n",
    "\n",
    "\n",
    "-----------\n",
    "\n",
    "Numpy is a library of common mathematical data structures and algorithms used in machine learning. For example:\n",
    "\n",
    "- It allows you to declare vectors and matrices, with all the associated mathematical operations like matrix vector products, matrix addition / subtraction.\n",
    "- It provides convenient, efficient implementations of algorithms to solve matrix equations, find the inverse of a matrix or perform Eigen decomposition. The implementation of these algorithms is compiled from C code, making Numpy much faster than programming these algorithms yourself in Python.\n",
    "\n",
    "You'll need to know Numpy inside and out. We'll start by getting you familiar with the easy to access online documentation and performing a few basic operations.\n",
    "\n",
    "Below I have declared the matrices: \n",
    "\n",
    "$$A = \n",
    "\\begin{bmatrix}\n",
    "2&3\\\\\n",
    "0&1\\\\\n",
    "\\end{bmatrix}\n",
    "\\\\\n",
    "x = \n",
    "\\begin{bmatrix}\n",
    "1\\\\\n",
    "3\\\\\n",
    "\\end{bmatrix}\n",
    "$$. \n",
    "\n",
    "---\n",
    "**TASK 0.2:** Run the cell below and observe what it prints.\n",
    "\n",
    "\n",
    "---\n",
    "(If it throws an error, you have the wrong version of python installed. This entire course will use Python 3, not Python 2)\n",
    "\n"
   ]
  },
  {
   "cell_type": "code",
   "execution_count": 2,
   "metadata": {},
   "outputs": [
    {
     "name": "stdout",
     "output_type": "stream",
     "text": [
      "\n",
      "Matrix Multiplication\n",
      "[[11]\n",
      " [ 3]]\n"
     ]
    }
   ],
   "source": [
    "A = np.array([[2, 3], [0, 1]])\n",
    "x = np.array([[1], [3]])\n",
    "\n",
    "#Matrix Multiplication Example\n",
    "b = A @ x\n",
    "print('\\nMatrix Multiplication')\n",
    "print(b)"
   ]
  },
  {
   "cell_type": "markdown",
   "metadata": {},
   "source": [
    "The above code illustrates how to perform matrix multiplication. Memorise it. Below are some other basic operations you'll likely need over the coming semester:"
   ]
  },
  {
   "cell_type": "code",
   "execution_count": 3,
   "metadata": {},
   "outputs": [
    {
     "name": "stdout",
     "output_type": "stream",
     "text": [
      "\n",
      "Matrix Addition\n",
      "[[3 4]\n",
      " [3 4]]\n",
      "\n",
      "Elementwise Matrix Multiplication\n",
      "[[2 3]\n",
      " [0 3]]\n",
      "\n",
      "Single Element Extraction\n",
      "2\n",
      "\n",
      "Column Extraction\n",
      "[2 0]\n",
      "\n",
      "Row Extraction\n",
      "[2 3]\n",
      "\n",
      "Transpose\n",
      "[[2 0]\n",
      " [3 1]]\n"
     ]
    }
   ],
   "source": [
    "#Matrix Addition Example\n",
    "b = A + x\n",
    "print('\\nMatrix Addition')\n",
    "print(b)\n",
    "\n",
    "#Elementwise Multiplication Example\n",
    "b = A * x\n",
    "print('\\nElementwise Matrix Multiplication')\n",
    "print(b)\n",
    "\n",
    "#Extract a single element of a matrix:\n",
    "print('\\nSingle Element Extraction')\n",
    "b = A[0, 0]\n",
    "print(b)\n",
    "\n",
    "#Extract an entire column of a matrix:\n",
    "print('\\nColumn Extraction')\n",
    "b = A[:, 0]\n",
    "print(b)\n",
    "\n",
    "#Extract an entire row of a matrix:\n",
    "print('\\nRow Extraction')\n",
    "b = A[0, :]\n",
    "print(b)\n",
    "\n",
    "#Transpose of a matrix:\n",
    "print('\\nTranspose')\n",
    "A_Transpose = A.T\n",
    "print(A_Transpose)"
   ]
  },
  {
   "cell_type": "markdown",
   "metadata": {},
   "source": [
    "## Task1: Solving a system of linear equations\n",
    "---\n",
    "\n",
    "A vital part of linear algebra is to know how to solve a system of linear equations. For e.g. \n",
    "\n",
    "$$a_{11}x_1+a_{12}x_2 \\dots a_{1d}x_d=b_1$$\n",
    "$$a_{21}x_1+a_{22}x_2 \\dots a_{2d}x_d=b_2$$\n",
    "$$\\vdots$$\n",
    "$$a_{n1}x_1+a_{n2}x_2 \\dots a_{nd}x_d=b_n$$\n",
    "\n",
    "The above system of linear equations can also be written down in a compact matrix form as follows:\n",
    "\n",
    "$$AX = B$$\n",
    "\n",
    "where,\n",
    "$$A = \\begin{bmatrix}\n",
    "a_{11} & \\dots & a_{1d}\\\\\n",
    "\\vdots & \\ddots & \\vdots \\\\\n",
    "a_{n1} & \\dots & a_{nd}\n",
    "\\end{bmatrix}, \\quad\n",
    "B = \\begin{bmatrix}\n",
    "b_1 \\\\ \\vdots \\\\ b_n\n",
    "\\end{bmatrix}, \\quad\n",
    "X = \\begin{bmatrix}\n",
    "x_1 \\\\ \\vdots \\\\ x_d\n",
    "\\end{bmatrix}.\n",
    "$$"
   ]
  },
  {
   "cell_type": "markdown",
   "metadata": {},
   "source": [
    "---\n",
    "**Task 1.1**: Use numpy's solve function to compute X\n",
    "\n",
    "---\n",
    "**HINT**: https://docs.scipy.org/doc/numpy/reference/generated/numpy.linalg.solve.html"
   ]
  },
  {
   "cell_type": "code",
   "execution_count": 4,
   "metadata": {},
   "outputs": [
    {
     "name": "stdout",
     "output_type": "stream",
     "text": [
      "[[0.03185596]\n",
      " [0.10526316]\n",
      " [0.05193906]]\n"
     ]
    }
   ],
   "source": [
    "# define A,B\n",
    "A = np.array([[10, 14, 4], [15, 2, 6], [7, 8, 18]])\n",
    "B = np.array([[2], [1], [2]])\n",
    "\n",
    "def solve_with_numpy(A,B):\n",
    "    # TODO: solve the linear system\n",
    "    return np.linalg.solve(A, B)\n",
    "\n",
    "# show solution\n",
    "X = solve_with_numpy(A,B)\n",
    "print (X)"
   ]
  },
  {
   "cell_type": "markdown",
   "metadata": {},
   "source": [
    "A more hands on way for solving for X, involves computing first computing the inverse of the matrix $A$\n",
    "\n",
    "---\n",
    "**Task 1.2**: Use numpy's inbuilt method for computing the inverse of the matrix $A$\n",
    "\n",
    "---\n",
    "\n",
    "**HINT**: https://docs.scipy.org/doc/numpy/reference/generated/numpy.linalg.inv.html"
   ]
  },
  {
   "cell_type": "code",
   "execution_count": 5,
   "metadata": {},
   "outputs": [
    {
     "name": "stdout",
     "output_type": "stream",
     "text": [
      "[[ 0.30769231 -0.07692308]\n",
      " [-1.15384615  0.53846154]]\n"
     ]
    }
   ],
   "source": [
    "A = np.array([[7, 1], [15, 4]])\n",
    "\n",
    "def find_inverse(A):\n",
    "    # TODO: find the inverse of the matrix A\n",
    "    return np.linalg.inv(A)\n",
    "    \n",
    "A_inv = find_inverse(A)\n",
    "print(A_inv)"
   ]
  },
  {
   "cell_type": "markdown",
   "metadata": {},
   "source": [
    "---\n",
    "**Task 1.3**: Use the inverse of matrix $A$, to solve for $X$. **Note that you are only allowed to use the functions in 1.1 and 1.2. No other library functions are allowed**.\n",
    "\n",
    "---"
   ]
  },
  {
   "cell_type": "code",
   "execution_count": 6,
   "metadata": {},
   "outputs": [
    {
     "name": "stdout",
     "output_type": "stream",
     "text": [
      "[[ 3.28571429]\n",
      " [-0.14285714]]\n"
     ]
    }
   ],
   "source": [
    "A = np.array([[5, 3], [2, 11]])\n",
    "B = np.array([[16], [5]])\n",
    "\n",
    "def solve_with_prev_tasks(A, B):\n",
    "    # TODO: solve the linear system using functions you have written\n",
    "    return np.linalg.inv(A) @ B\n",
    "\n",
    "X = solve_with_prev_tasks(A, B)\n",
    "print(X)"
   ]
  },
  {
   "cell_type": "markdown",
   "metadata": {},
   "source": [
    "But what if $A$ is not a square matrix?\n",
    "\n",
    "---\n",
    "**Task 1.4**: Compute the Moore-Penrose pseudo inverse for matrix $A$ and **use it to solve for $x$**. **Note that, you must not directly use `np.linalg.pinv` for computing the pseudo-inverse**.\n",
    "\n",
    "---"
   ]
  },
  {
   "cell_type": "code",
   "execution_count": 7,
   "metadata": {},
   "outputs": [
    {
     "name": "stdout",
     "output_type": "stream",
     "text": [
      "[[0.97187421]\n",
      " [0.09046455]]\n"
     ]
    }
   ],
   "source": [
    "A = np.array([[15, 1], [5, 10], [8, 2], [11, 19]])\n",
    "B = np.array([[18], [15], [2], [8]])\n",
    "\n",
    "def pseudo_inverse(A):\n",
    "    # TODO: find the pseudo inverse of a matrix\n",
    "    return np.linalg.inv(A.T@A)@A.T\n",
    "\n",
    "def solve_with_pseudo_inverse(A, B):\n",
    "    A_pseudo = pseudo_inverse(A)\n",
    "    # TODO: solve for x using pseudo inverse method.\n",
    "    return A_pseudo @ B\n",
    "\n",
    "X = solve_with_pseudo_inverse(A, B)\n",
    "    \n",
    "# print(np.linalg.pinv(A))\n",
    "print(X)"
   ]
  },
  {
   "cell_type": "markdown",
   "metadata": {},
   "source": [
    "## Task 2: Solving a system of linear equations with Gaussian elimination"
   ]
  },
  {
   "cell_type": "markdown",
   "metadata": {},
   "source": [
    "In the last task, we used numpy's inbulit functions to solve a system of linear equations. Lets do it without using these functions!\n",
    "\n",
    "---\n",
    "**Task 2.1**:  Complete the following gaussian elimnation function to compute the **reduced row-echelon form** of matrix $A$. You must implement the gaussian elimination algorithm yourself, not merely call someone else's library function. You **MUST NOT** copy codes from any source. Your function needs to work under **different shapes** of matrix. Negative zero is a result of the floating-point number standard. If you have some -0s instead of 0s, that should be fine.\n",
    "\n",
    "---"
   ]
  },
  {
   "cell_type": "code",
   "execution_count": 8,
   "metadata": {},
   "outputs": [],
   "source": [
    "def gaussian_elim(X):\n",
    "    m, n = X.shape\n",
    "    res = np.array(X, dtype=np.float64)\n",
    "    h = 0\n",
    "    k = 0\n",
    "    lead = 0\n",
    "    while h < res.shape[0] and k < res.shape[1]:\n",
    "        i_max = np.argmax(np.abs(res[h:, k])) + h\n",
    "        if abs(res[i_max][k]) < 1e-10:\n",
    "            k += 1\n",
    "        else:\n",
    "            tmp = np.copy(res[h])\n",
    "            res[h] = res[i_max]\n",
    "            res[i_max] = tmp\n",
    "            for i in range(h + 1, res.shape[0]):\n",
    "                f = res[i][k] / res[h][k]\n",
    "                res[i][k] = 0\n",
    "                res[i][k + 1:] -= res[h][k + 1:] * f\n",
    "            h += 1\n",
    "            k += 1\n",
    "            lead += 1\n",
    "    while lead > 0:\n",
    "        h = lead - 1\n",
    "        for i in range(0, res.shape[1]):\n",
    "            if abs(res[h][i]) > 1e-10:\n",
    "                pivot = res[h][i]\n",
    "                pivot_arg = i\n",
    "                break\n",
    "        res[h] = res[h] / pivot\n",
    "        for i in range(0, h):\n",
    "            f = res[i][pivot_arg]\n",
    "            res[i] = res[i] - f * res[h]\n",
    "        lead -= 1\n",
    "    # Do not change the following line\n",
    "    res[abs(res) < 1e-10] = 0\n",
    "    return res"
   ]
  },
  {
   "cell_type": "code",
   "execution_count": 9,
   "metadata": {},
   "outputs": [
    {
     "name": "stdout",
     "output_type": "stream",
     "text": [
      "[[1. 0. 0. 0. 0. 0. 0. 0. 0. 0.]\n",
      " [0. 1. 0. 0. 0. 0. 0. 0. 0. 0.]\n",
      " [0. 0. 1. 0. 0. 0. 0. 0. 0. 0.]\n",
      " [0. 0. 0. 1. 0. 0. 0. 0. 0. 0.]\n",
      " [0. 0. 0. 0. 1. 0. 0. 0. 0. 0.]\n",
      " [0. 0. 0. 0. 0. 1. 0. 0. 0. 0.]\n",
      " [0. 0. 0. 0. 0. 0. 1. 0. 0. 0.]\n",
      " [0. 0. 0. 0. 0. 0. 0. 1. 0. 0.]\n",
      " [0. 0. 0. 0. 0. 0. 0. 0. 1. 0.]\n",
      " [0. 0. 0. 0. 0. 0. 0. 0. 0. 1.]]\n"
     ]
    }
   ],
   "source": [
    "A = np.array([[18, 18, 14, 15, 14, 19,  8,  7,  2, 11],\n",
    "               [ 3,  7,  8,  8,  2,  2,  8, 17,  6,  8],\n",
    "               [ 2,  8,  6,  4, 11, 10, 15, 11, 12,  3],\n",
    "               [ 9,  4, 17,  6,  6, 12, 13,  0, 12,  2],\n",
    "               [ 0,  3, 18,  0, 13,  6,  8, 13, 16, 15],\n",
    "               [15, 16, 13,  9,  4, 17, 11,  0,  5, 18],\n",
    "               [10,  4,  6, 12,  6, 18, 17,  7,  5,  6],\n",
    "               [ 3, 12,  2,  4, 16,  1, 17,  8, 10,  2],\n",
    "               [ 7,  8, 11,  4, 12, 14, 18, 14,  9, 16],\n",
    "               [18, 13,  3, 19, 16,  9,  6,  8,  2, 15]])\n",
    "\n",
    "print(gaussian_elim(A))\n",
    "\n",
    "# The result should be an identity matrix"
   ]
  },
  {
   "cell_type": "code",
   "execution_count": 10,
   "metadata": {},
   "outputs": [
    {
     "name": "stdout",
     "output_type": "stream",
     "text": [
      "[[  1.           0.           0.           0.          -2.77442593\n",
      "   20.86492571  -0.07248987   7.64520486]\n",
      " [  0.           1.           0.           0.           3.44146781\n",
      "  -21.02183701   1.11661414  -7.36402521]\n",
      " [  0.           0.           1.           0.           0.48694282\n",
      "   -2.83948672  -0.13552454  -0.68505178]\n",
      " [  0.           0.           0.           1.          -1.26947321\n",
      "   13.49369653  -0.09004953   4.45677623]]\n"
     ]
    }
   ],
   "source": [
    "B = np.array([[ 5,  3, 14,  1,  2, 15,  1, 11],\n",
    "               [ 3, 13,  5, 18, 16, 18, 12,  4],\n",
    "               [ 1,  9, 12, 15, 15,  0,  7,  0],\n",
    "               [18, 17,  5,  0, 11,  4, 17,  9]])\n",
    "\n",
    "print(gaussian_elim(B))\n",
    "# The result should look like\n",
    "# [[  1.           0.           0.           0.          -2.77442593 20.86492571  -0.07248987   7.64520486]\n",
    "#  [  0.           1.           0.           0.           3.44146781 -21.02183701   1.11661414  -7.36402521]\n",
    "#  [  0.           0.           1.           0.           0.48694282 -2.83948672  -0.13552454  -0.68505178]\n",
    "#  [  0.           0.           0.           1.          -1.26947321 13.49369653  -0.09004953   4.45677623]]"
   ]
  },
  {
   "cell_type": "code",
   "execution_count": 11,
   "metadata": {},
   "outputs": [
    {
     "name": "stdout",
     "output_type": "stream",
     "text": [
      "[[1. 0. 0.]\n",
      " [0. 1. 0.]\n",
      " [0. 0. 1.]\n",
      " [0. 0. 0.]\n",
      " [0. 0. 0.]\n",
      " [0. 0. 0.]\n",
      " [0. 0. 0.]]\n"
     ]
    }
   ],
   "source": [
    "C = np.array([[ 3, 12, 17],\n",
    "               [14, 19,  8],\n",
    "               [ 1, 12,  7],\n",
    "               [10, 17, 11],\n",
    "               [ 6,  0, 12],\n",
    "               [16,  3, 15],\n",
    "               [16, 19, 18]])\n",
    "\n",
    "print(gaussian_elim(C))\n",
    "# The result should look like\n",
    "# [[1. 0. 0.]\n",
    "#  [0. 1. 0.]\n",
    "#  [0. 0. 1.]\n",
    "#  [0. 0. 0.]\n",
    "#  [0. 0. 0.]\n",
    "#  [0. 0. 0.]\n",
    "#  [0. 0. 0.]]"
   ]
  },
  {
   "cell_type": "markdown",
   "metadata": {},
   "source": [
    "---\n",
    "**Task 2.2**: A system of linear equations is called homogeneous if the right hand side is the zero vector. Sometimes there will be only trivial solution, namely the zero vector. An example of this matrix is:\n",
    "$$2x_1+4x_2 =0$$\n",
    "$$2x_1+5x_2 =0$$\n",
    "Sometimes there will be non-trivial solutions, e.g.,\n",
    "$$2x_1+4x_2 =0$$\n",
    "$$1x_1+2x_2 =0$$\n",
    "The solution can be $x_1 =-2$, $x_2 =1$.\n",
    " \n",
    "$A=\\big(\\begin{smallmatrix}\n",
    "  2 & 4\\\\\n",
    "  1 & 2\n",
    "\\end{smallmatrix}\\big)$ is called coefficient matrix.\n",
    "Your task is solving a homogeneous system of linear equations based on its reduced row-echelon form, i.e., the output of your *gaussian_elim* function in Task 2.1. You **MUST NOT** revoke any numpy inbuilt functions you used in Task 1. Your function needs to work under **different shapes** of $A$. \n",
    "\n",
    "The *solve_homogeneous* function should be according to the following specifications:\n",
    "* Take as input the coefficient matrix $A$. \n",
    "* Return:\n",
    "    - 0 if it only has trivial solution. Type: int.\n",
    "    - otherwise, return any two different non-trivial solutions. Type: tuple((np.ndarray, Type: np.ndarray)).  Note that the dimensions of the np.ndarray should be 1, i.e., using one pair of square brackets. See demo outputs below."
   ]
  },
  {
   "cell_type": "code",
   "execution_count": 12,
   "metadata": {},
   "outputs": [],
   "source": [
    "def find_pivot_pos(rref, m, n):\n",
    "    pivot_pos = []\n",
    "    for i in range(m):\n",
    "        pos = np.where(rref[i] == 1)[0]\n",
    "        if len(pos) > 0:\n",
    "            pivot_pos.append(pos[0])\n",
    "    free_var_pos = [p for p in range(n - 1) if p not in pivot_pos]\n",
    "    return pivot_pos, free_var_pos\n",
    "\n",
    "\n",
    "# solve homogeneous or non-homogeneous system of equations when they have one or more solutions\n",
    "def solve(rref):\n",
    "    m, n = rref.shape\n",
    "    pivot_pos, free_var_pos = find_pivot_pos(rref, m, n)\n",
    "    res = [[0 for _ in range(n - len(pivot_pos))] for _ in range(n - 1)]\n",
    "    i = 0\n",
    "    while i <= m - 1:\n",
    "        j = 0\n",
    "        while j <= n - 2:\n",
    "            if rref[i, j] == 1 and j in pivot_pos:\n",
    "                pj = j\n",
    "                res[j][0] = rref[i, n - 1]\n",
    "            if rref[i, j] != 0 and j not in pivot_pos:\n",
    "                k = free_var_pos.index(j) + 1\n",
    "                res[pj][k] = -rref[i, j]\n",
    "            j += 1\n",
    "        i += 1\n",
    "    k = 1\n",
    "    j = 0\n",
    "    while j <= n - 2:\n",
    "        if j in free_var_pos:\n",
    "            res[j][k] = 1\n",
    "            k += 1\n",
    "        j += 1\n",
    "    return np.array(res)"
   ]
  },
  {
   "cell_type": "code",
   "execution_count": 13,
   "metadata": {},
   "outputs": [],
   "source": [
    "def solve_homogeneous(A):\n",
    "    m, n = A.shape\n",
    "    rref = gaussian_elim(A)\n",
    "    rank = 0\n",
    "    for i in range(m):\n",
    "        if np.any(rref[i]):\n",
    "            rank += 1\n",
    "    if rank == n:\n",
    "        return 0\n",
    "    else:\n",
    "        rref = np.column_stack((rref, np.zeros(m)))\n",
    "        res = solve(rref)\n",
    "        return np.sum(res, axis=1), 2 * np.sum(res, axis=1)"
   ]
  },
  {
   "cell_type": "code",
   "execution_count": 14,
   "metadata": {},
   "outputs": [
    {
     "name": "stdout",
     "output_type": "stream",
     "text": [
      "0\n"
     ]
    }
   ],
   "source": [
    "A = np.array([[ 6,  9,  1,  7],\n",
    "               [17,  1,  3, 17],\n",
    "               [ 8,  4,  9, 13],\n",
    "               [18,  4, 18, 18]])\n",
    "print(solve_homogeneous(A))\n",
    "# The result should look like\n",
    "# 0"
   ]
  },
  {
   "cell_type": "code",
   "execution_count": 15,
   "metadata": {},
   "outputs": [
    {
     "name": "stdout",
     "output_type": "stream",
     "text": [
      "0\n"
     ]
    }
   ],
   "source": [
    "B = np.array([[ 6,  8,  6, 15, 12],\n",
    "           [17,  8,  8, 12,  2],\n",
    "           [18, 15, 15,  7,  2],\n",
    "           [ 7,  6, 10,  3, 18],\n",
    "           [14,  4,  4,  2, 16]])\n",
    "print(solve_homogeneous(B))\n",
    "# The result should look like\n",
    "# 0"
   ]
  },
  {
   "cell_type": "code",
   "execution_count": 16,
   "metadata": {},
   "outputs": [
    {
     "name": "stdout",
     "output_type": "stream",
     "text": [
      "(array([ 0.72, -1.32,  1.  ]), array([ 1.44, -2.64,  2.  ]))\n"
     ]
    }
   ],
   "source": [
    "C = np.array([[ 8, 18, 18],\n",
    "               [14, 19, 15],\n",
    "               [4,  9,  9]])\n",
    "\n",
    "print(solve_homogeneous(C))\n",
    "# The result should look like\n",
    "# (array([ 0.72, -1.32,  1.  ]), array([ 1.44, -2.64,  2.  ]))\n",
    "# Note they are not unique"
   ]
  },
  {
   "cell_type": "code",
   "execution_count": 17,
   "metadata": {},
   "outputs": [
    {
     "name": "stdout",
     "output_type": "stream",
     "text": [
      "(array([-21.11538462,  68.53846154,  -1.23076923,   1.        ]), array([-42.23076923, 137.07692308,  -2.46153846,   2.        ]))\n"
     ]
    }
   ],
   "source": [
    "D = np.array([[10,  3,  2,  8],\n",
    "           [16,  5,  8,  5],\n",
    "           [ 0,  0, 13, 16]])\n",
    "\n",
    "print(solve_homogeneous(D))\n",
    "#The result should look like\n",
    "# ((array([-21.11538462,  68.53846154,  -1.23076923,   1.        ]), \n",
    "# array([-42.23076923, 137.07692308,  -2.46153846,   2.        ]))\n",
    "# Note they are not unique"
   ]
  },
  {
   "cell_type": "code",
   "execution_count": 18,
   "metadata": {},
   "outputs": [
    {
     "name": "stdout",
     "output_type": "stream",
     "text": [
      "0\n"
     ]
    }
   ],
   "source": [
    "E = np.array([[ 2, 12,  2],\n",
    "           [12,  8,  7],\n",
    "           [14,  5, 17],\n",
    "           [ 8, 10,  5]])\n",
    "\n",
    "print(solve_homogeneous(E))\n",
    "# The result should look like\n",
    "# 0"
   ]
  },
  {
   "cell_type": "markdown",
   "metadata": {},
   "source": [
    "---\n",
    "**Task 2.3**: A system of linear equations is called non-homogeneous if the right hand side is not the zero vector. A non-homogeneous system of linear equations has\n",
    "* no solution, or\n",
    "* a unique solution, or\n",
    "* infinite number of solutions\n",
    "\n",
    "Similar to Task 2.2, your task is solving a non-homogeneous system of linear equations. You **MUST NOT** revoke any numpy inbuilt functions you used in Task 1, however, you are allowed to use the functions you defined in Task 2.2. Your function needs to work under **different shapes** of augmented matrix $[A|b]$. \n",
    "\n",
    "The *solve_nonhomogeneous* function should be according to following specifications:\n",
    "* Take as input the augmented matrix $[A|b]$. \n",
    "* Return:\n",
    "    - None if it has no solution at all. Type: None.\n",
    "    - the single solution if it only has one solution. Type: np.ndarray.\n",
    "    - otherwise, return any two different solutions if it has more than one solutions. Type: tuple((np.ndarray, Type: np.ndarray)).\n",
    "*  Note that the dimensions of the np.ndarray should be 1, especially, one pair of square brackets. See demo outputs below.    "
   ]
  },
  {
   "cell_type": "code",
   "execution_count": 19,
   "metadata": {},
   "outputs": [],
   "source": [
    "def solve_nonhomogeneous(A_aug):\n",
    "    rref = gaussian_elim(A_aug)\n",
    "    rank_A, rank_aug = 0, 0\n",
    "    for i in range(A_aug.shape[0]):\n",
    "        if np.any(rref[i]):\n",
    "            rank_aug += 1\n",
    "        if np.any(rref[i][:-1]):\n",
    "            rank_A += 1\n",
    "    if rank_A != rank_aug:\n",
    "        return None\n",
    "    else:\n",
    "        res = solve(rref)\n",
    "        if res.shape[1] == 1:\n",
    "            return np.squeeze(res)\n",
    "        else:\n",
    "            return res[:, 0] + np.sum(res[:, 1:],axis=1), res[:, 0] + 2 * np.sum(res[:, 1:],axis=1)"
   ]
  },
  {
   "cell_type": "code",
   "execution_count": 20,
   "metadata": {},
   "outputs": [
    {
     "name": "stdout",
     "output_type": "stream",
     "text": [
      "None\n"
     ]
    }
   ],
   "source": [
    "A = np.array([[ 9,  5, 14,  3],\n",
    "           [ 9,  1, 11,  0],\n",
    "           [ 0,  4,  3,  2]])\n",
    "\n",
    "print(solve_nonhomogeneous(A))\n",
    "# The result should look like\n",
    "# None"
   ]
  },
  {
   "cell_type": "code",
   "execution_count": 21,
   "metadata": {},
   "outputs": [
    {
     "name": "stdout",
     "output_type": "stream",
     "text": [
      "[0.19444444 0.52777778 3.11111111]\n"
     ]
    }
   ],
   "source": [
    "B = np.array([[ 9, 19,  2, 18],\n",
    "           [ 5,  7,  3, 14],\n",
    "           [14,  6,  1,  9]])\n",
    "\n",
    "print(solve_nonhomogeneous(B))\n",
    "# The result should look like\n",
    "# [0.19444444 0.52777778 3.11111111]"
   ]
  },
  {
   "cell_type": "code",
   "execution_count": 22,
   "metadata": {},
   "outputs": [
    {
     "name": "stdout",
     "output_type": "stream",
     "text": [
      "(array([-2.99214286,  0.35642857,  4.61571429,  2.55      ,  1.        ]), array([-6.15785714,  0.29357143,  8.08428571,  4.95      ,  2.        ]))\n"
     ]
    }
   ],
   "source": [
    "C = np.array([[14, 14,  0, 18,  2, 11],\n",
    "           [12, 12,  5,  1, 19, 13],\n",
    "           [ 9,  3,  7,  1,  2, 11],\n",
    "           [18, 10,  6, 12,  8, 16]])\n",
    "print(solve_nonhomogeneous(C))\n",
    "# The result should look like\n",
    "# (array([-2.99214286,  0.35642857,  4.61571429,  2.55      ,  1.        ]), \n",
    "# array([-6.15785714,  0.29357143,  8.08428571,  4.95      ,  2.        ]))\n",
    "# The results are not unique"
   ]
  },
  {
   "cell_type": "markdown",
   "metadata": {},
   "source": [
    "## Task 3: Rank, Basis and Span\n",
    "\n",
    "Given a matrix $X$, would it be possible for you to programmably determine its rank, null space and column space? In this question, you are tasked at **1) finding the rank and the dimension of the null space $X$, 2) finding the basis that spans the column space of $X$, and 3) finding the basis that spans the null space of $X$.**"
   ]
  },
  {
   "cell_type": "markdown",
   "metadata": {},
   "source": [
    "---\n",
    "**Task 3.1**: Implement two functions `rank`, `dim_null`.\n",
    "\n",
    "`rank`: takes arbitrary matrix $X$ as input, output its rank.\n",
    "\n",
    "`dim_null`: takes arbitrary matrix $X$ as input, output the dimension of its null space\n",
    "\n",
    "**Note: If you didn't get Gaussian Elimination in task2, you may use the library function `sp.Matrix(X).rref()` to get the reduced row echelon form of $X$. But, you must not use other library functions that can solve questions directly.**"
   ]
  },
  {
   "cell_type": "code",
   "execution_count": 23,
   "metadata": {},
   "outputs": [],
   "source": [
    "def rank(A):\n",
    "    # TODO: get rank of A\n",
    "    m, n = A.shape\n",
    "    A = gaussian_elim(A)\n",
    "    pivot_pose, _ = find_pivot_pos(A, *A.shape)\n",
    "    return len(pivot_pose)\n",
    "    \n",
    "def dim_null(A):\n",
    "    # TODO: get dimension of the null space of A\n",
    "    n = A.shape[1]\n",
    "    return n - rank(A)"
   ]
  },
  {
   "cell_type": "code",
   "execution_count": 24,
   "metadata": {},
   "outputs": [
    {
     "name": "stdout",
     "output_type": "stream",
     "text": [
      "0\n",
      "3\n"
     ]
    }
   ],
   "source": [
    "A = np.array([[0, 0, 0], \n",
    "              [0, 0, 0], \n",
    "              [0, 0, 0]])\n",
    "\n",
    "print(rank(A))\n",
    "print(dim_null(A))\n",
    "\n",
    "# you should get\n",
    "# 0\n",
    "# 3"
   ]
  },
  {
   "cell_type": "code",
   "execution_count": 25,
   "metadata": {},
   "outputs": [
    {
     "name": "stdout",
     "output_type": "stream",
     "text": [
      "4\n",
      "1\n"
     ]
    }
   ],
   "source": [
    "B = np.array([[16,  8, 12,  8,  5],\n",
    "               [ 0,  7,  9, 14,  2],\n",
    "               [14, 12, 13, 15, 14],\n",
    "               [13, 18, 16, 19, 12]])\n",
    "\n",
    "print(rank(B))\n",
    "print(dim_null(B))\n",
    "\n",
    "# you should get\n",
    "# 4\n",
    "# 1"
   ]
  },
  {
   "cell_type": "code",
   "execution_count": 26,
   "metadata": {},
   "outputs": [
    {
     "name": "stdout",
     "output_type": "stream",
     "text": [
      "3\n",
      "0\n"
     ]
    }
   ],
   "source": [
    "C = np.array([[ 1,  8,  4],\n",
    "               [ 0,  0, 11],\n",
    "               [15,  2, 11],\n",
    "               [12,  0,  3]])\n",
    "\n",
    "print(rank(C))\n",
    "print(dim_null(C))\n",
    "\n",
    "# you should get\n",
    "# 3\n",
    "# 0"
   ]
  },
  {
   "cell_type": "markdown",
   "metadata": {},
   "source": [
    "\n",
    "\n",
    "---\n",
    "**Task 3.2**: Implement `basis_col`.\n",
    "\n",
    "`basis_col`: takes arbitrary matrix $X$ as input, output a basis that spans the column space of $X$. The basis should be a numpy array or a list, containing several numpy array vectors. \n",
    "\n",
    "---"
   ]
  },
  {
   "cell_type": "code",
   "execution_count": 28,
   "metadata": {},
   "outputs": [],
   "source": [
    "def basis_col(A):\n",
    "    # TODO: get a basis for the column space.\n",
    "    A_ = gaussian_elim(A)\n",
    "    pivot_pose, _ = find_pivot_pos(A_, *A_.shape)\n",
    "    if pivot_pose == []:\n",
    "        return np.zeros_like([A[:, 0]]).T\n",
    "    return A[:, pivot_pose]"
   ]
  },
  {
   "cell_type": "code",
   "execution_count": 29,
   "metadata": {},
   "outputs": [
    {
     "name": "stdout",
     "output_type": "stream",
     "text": [
      "[[0]\n",
      " [0]\n",
      " [0]]\n"
     ]
    }
   ],
   "source": [
    "A = np.array([[0, 0, 0], \n",
    "              [0, 0, 0], \n",
    "              [0, 0, 0]])\n",
    "\n",
    "print(basis_col(A))\n",
    "\n",
    "# should return \n",
    "# array([[0], [0], [0]])"
   ]
  },
  {
   "cell_type": "code",
   "execution_count": 30,
   "metadata": {},
   "outputs": [
    {
     "name": "stdout",
     "output_type": "stream",
     "text": [
      "[[13 11  6  9]\n",
      " [ 0 12 16 11]\n",
      " [ 5 15  8  3]\n",
      " [16  3  1 14]]\n"
     ]
    }
   ],
   "source": [
    "B = np.array([[13, 11,  6,  9,  6],\n",
    "            [ 0, 12, 16, 11, 14],\n",
    "            [ 5, 15,  8,  3,  0],\n",
    "            [16,  3,  1, 14,  5]])\n",
    "\n",
    "print(basis_col(B))\n",
    "\n",
    "# should return something like\n",
    "# array([[13, 11, 6, 9], [0, 12, 16, 11], [5, 15, 8, 3], [16, 3, 1, 14]])\n",
    "# the solution is not unique"
   ]
  },
  {
   "cell_type": "code",
   "execution_count": 31,
   "metadata": {},
   "outputs": [
    {
     "name": "stdout",
     "output_type": "stream",
     "text": [
      "[[1]\n",
      " [1]\n",
      " [1]]\n"
     ]
    }
   ],
   "source": [
    "C = np.array([[1, 1], \n",
    "              [1, 1], \n",
    "              [1, 1]])\n",
    "\n",
    "print(basis_col(C))\n",
    "# should return something like\n",
    "# array([[1], [1], [1]])\n",
    "# the solution is not unique"
   ]
  },
  {
   "cell_type": "markdown",
   "metadata": {},
   "source": [
    "---\n",
    "**Task 3.3**: Implement `basis_null`.\n",
    "\n",
    "`basis_null`: takes arbitrary matrix $X$ as input, output a basis that spans the null space of $X$. The basis should be a numpy array or a list, containing several numpy array vectors.\n",
    "\n",
    "---"
   ]
  },
  {
   "cell_type": "code",
   "execution_count": 32,
   "metadata": {},
   "outputs": [],
   "source": [
    "def basis_null(A):\n",
    "    # TODO: get a basis for the null space.\n",
    "    A =  gaussian_elim(A)\n",
    "    sol = solve(np.hstack((A, np.zeros((A.shape[0], 1)))))\n",
    "    if sol.shape[1] > 1:\n",
    "        return sol[:, 1:]\n",
    "    return sol"
   ]
  },
  {
   "cell_type": "code",
   "execution_count": 33,
   "metadata": {},
   "outputs": [
    {
     "name": "stdout",
     "output_type": "stream",
     "text": [
      "[[1 0 0]\n",
      " [0 1 0]\n",
      " [0 0 1]]\n"
     ]
    }
   ],
   "source": [
    "A = np.array([[0, 0, 0], \n",
    "              [0, 0, 0], \n",
    "              [0, 0, 0]])\n",
    "\n",
    "print(basis_null(A))\n",
    "\n",
    "# should return something like an identity matrix. The solution is not unique."
   ]
  },
  {
   "cell_type": "code",
   "execution_count": 34,
   "metadata": {},
   "outputs": [
    {
     "name": "stdout",
     "output_type": "stream",
     "text": [
      "[[0.]\n",
      " [0.]\n",
      " [0.]]\n"
     ]
    }
   ],
   "source": [
    "B = np.array([[16, 16, 11],\n",
    "            [14, 19, 11],\n",
    "            [11, 12, 19]])\n",
    "\n",
    "print(basis_null(B))\n",
    "\n",
    "# should return\n",
    "# array([[0], [0], [0]])"
   ]
  },
  {
   "cell_type": "code",
   "execution_count": 35,
   "metadata": {},
   "outputs": [
    {
     "name": "stdout",
     "output_type": "stream",
     "text": [
      "[[-1.51875  -0.8125  ]\n",
      " [-3.675    -3.25    ]\n",
      " [ 3.571875  3.28125 ]\n",
      " [ 1.        0.      ]\n",
      " [ 0.        1.      ]]\n"
     ]
    }
   ],
   "source": [
    "C = np.array([[ 0, 18, 16,  9, 6],\n",
    "                [ 3, 14, 14,  6, 2],\n",
    "                [14,  3,  4, 18, 8]])\n",
    "\n",
    "\n",
    "print(basis_null(C))\n",
    "\n",
    "# should return something like\n",
    "# array([[-1.51875 , -0.8125], [-3.675,      -3.25], [ 3.571875, 3.28125], [ 1.      , 0], [ 0.      , 1]])\n",
    "# the solution is not unique"
   ]
  }
 ],
 "metadata": {
  "kernelspec": {
   "display_name": "Python 3 (ipykernel)",
   "language": "python",
   "name": "python3"
  },
  "language_info": {
   "codemirror_mode": {
    "name": "ipython",
    "version": 3
   },
   "file_extension": ".py",
   "mimetype": "text/x-python",
   "name": "python",
   "nbconvert_exporter": "python",
   "pygments_lexer": "ipython3",
   "version": "3.8.10"
  }
 },
 "nbformat": 4,
 "nbformat_minor": 2
}
